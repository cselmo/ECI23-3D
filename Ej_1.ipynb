{
 "cells": [
  {
   "cell_type": "markdown",
   "id": "7b8aec11-3071-46ab-bcba-85a3887041dc",
   "metadata": {},
   "source": [
    "# ECI 2023\n",
    "## Reconstrucción 3D de humanos a partir de imágenes\n",
    "### Carlos Selmo, Alan Elkin\n",
    "### Ejercicio 1"
   ]
  },
  {
   "cell_type": "markdown",
   "id": "7983e93a-75b3-4641-8ad6-ddddbfa6c929",
   "metadata": {},
   "source": [
    "### 1. ¿Con qué tipo de representación 3D corresponde cada archivo?"
   ]
  },
  {
   "cell_type": "markdown",
   "id": "23431730-d6af-474b-b6d0-e2f7353c83c6",
   "metadata": {},
   "source": [
    "El archivo `192.obj` es una representación de mesh mediante el listado de vértices y caras que forman el *mesh*. Por otra parte, `stereo_pointcloud.off` es una representación de *point cloud*. "
   ]
  },
  {
   "cell_type": "markdown",
   "id": "38b1bd98-c1e0-4a33-8c68-1076a911001f",
   "metadata": {},
   "source": [
    "### 2. ¿Cómo representa la información cada uno de los archivos?"
   ]
  },
  {
   "cell_type": "markdown",
   "id": "5fcb7e28-c0cb-4a45-89b7-041d61fbc92f",
   "metadata": {},
   "source": [
    "El archivo `192.obj` es una representación de *mesh* mediante el listado de vértices y caras que forman el *mesh*. Por ejemplo las coordenadas en tres dimensiones de cada vértice se representan como se muestra en el siguiente extracto, donde se listan cinco vértices: \n",
    "```\n",
    "v 0.248058 -0.046616 -0.191992\n",
    "v 0.262062 -0.050730 -0.186800\n",
    "v 0.264408 -0.045136 -0.185754\n",
    "v 0.251341 -0.042969 -0.191054\n",
    "v 0.291598 -0.051988 -0.224886\n",
    "```\n",
    "el caracter `v` al inicio de cada línea denota que cada número corresponde a las coordenadas del vértice.\n",
    "Las caras del *mesh* se determinan según una tríada de índices correspondiente al índice de aparición de cada vértice en el archivo. En el siguiente extracto se listan cinco caras:\n",
    "```\n",
    "f 4 2 1\n",
    "f 8 6 5\n",
    "f 13 15 14\n",
    "f 17 19 18\n",
    "f 32 30 29\n",
    "```\n",
    "el caracter `f` al inicio de cada línea denota que cada número corresponde a los índices de los vértices.\n",
    "\n",
    "Por otra parte, `stereo_pointcloud.off` es una representación de *point cloud*. Al inicio del archivo se listan tres números que corresponden sucesivamente al número de vértices, número de caras y número de bordes que contiene el archivo. En este caso es:\n",
    "```\n",
    "1469864 0 0\n",
    "```\n",
    "lo que significa que en este caso sólo se representan vértices, por lo tanto la representación es *point cloud*. Cada línea consiste en siete números que corresponden a las tres coordenadas espaciales de cada punto y cuatro componentes de RGBA (*red*, *green*, *blue*, *alpha*). En el siguiente extracto se listan cinco puntos:\n",
    "```\n",
    "-0.00543236 0.544902 -4.04664 10 0 0 255 \n",
    "-0.00459112 0.544912 -4.04671 11 0 0 255 \n",
    "-0.0037498 0.544918 -4.04674 8 0 0 255 \n",
    "-0.00290846 0.544924 -4.04678 8 0 0 255 \n",
    "-0.00206711 0.54493 -4.04681 7 0 0 255 \n",
    "```"
   ]
  },
  {
   "cell_type": "code",
   "execution_count": null,
   "id": "4b4f96f4-1857-4a56-ba71-6f68fb814717",
   "metadata": {},
   "outputs": [],
   "source": []
  }
 ],
 "metadata": {
  "kernelspec": {
   "display_name": "Python 3 (ipykernel)",
   "language": "python",
   "name": "python3"
  },
  "language_info": {
   "codemirror_mode": {
    "name": "ipython",
    "version": 3
   },
   "file_extension": ".py",
   "mimetype": "text/x-python",
   "name": "python",
   "nbconvert_exporter": "python",
   "pygments_lexer": "ipython3",
   "version": "3.10.12"
  }
 },
 "nbformat": 4,
 "nbformat_minor": 5
}
